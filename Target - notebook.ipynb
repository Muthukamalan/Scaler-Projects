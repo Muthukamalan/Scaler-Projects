{
 "cells": [
  {
   "cell_type": "code",
   "execution_count": 1,
   "id": "42a752a3",
   "metadata": {},
   "outputs": [],
   "source": [
    "import numpy as np\n",
    "import pandas as pd\n",
    "import matplotlib.pyplot as plt\n",
    "import seaborn as sns\n",
    "\n",
    "pd.set_option('display.max_columns', None)\n",
    "sns.set(style='whitegrid')\n",
    "%matplotlib inline"
   ]
  },
  {
   "cell_type": "code",
   "execution_count": 8,
   "id": "a9791fc6",
   "metadata": {},
   "outputs": [
    {
     "name": "stdout",
     "output_type": "stream",
     "text": [
      "customers.csv\t order_items.csv    orders.csv\t  products.csv\r\n",
      "geolocation.csv  order_reviews.csv  payments.csv  sellers.csv\r\n"
     ]
    }
   ],
   "source": [
    "!ls ./source/data/"
   ]
  },
  {
   "cell_type": "code",
   "execution_count": 9,
   "id": "19d52954",
   "metadata": {},
   "outputs": [],
   "source": [
    "customers    = pd.read_csv('./source/data/customers.csv').sample(5000)\n",
    "geolocation  = pd.read_csv('./source/data/geolocation.csv').sample(5000)\n",
    "order_items  = pd.read_csv('./source/data/order_items.csv').sample(5000)\n",
    "order_reviews= pd.read_csv('./source/data/order_reviews.csv',encoding='latin-1').sample(5000)\n",
    "orders       = pd.read_csv('./source/data/orders.csv').sample(5000)\n",
    "payments     = pd.read_csv('./source/data/payments.csv').sample(5000)\n",
    "products     = pd.read_csv('./source/data/products.csv').sample(5000)\n",
    "sellers      = pd.read_csv('./source/data/sellers.csv').sample(3000)"
   ]
  },
  {
   "cell_type": "code",
   "execution_count": null,
   "id": "7efc39ac",
   "metadata": {},
   "outputs": [],
   "source": [
    "orders.order_purchase_timestamp = pd.to_datetime(orders.order_purchase_timestamp)\n",
    "orders.order_approved_at        = pd.to_datetime(orders.order_approved_at)\n",
    "\n",
    "orders.order_delivered_carrier_date   = pd.to_datetime(orders.order_delivered_carrier_date)\n",
    "orders.order_delivered_customer_date   = pd.to_datetime(orders.order_delivered_customer_date)\n",
    "orders.order_estimated_delivery_date   = pd.to_datetime(orders.order_estimated_delivery_date)"
   ]
  },
  {
   "cell_type": "code",
   "execution_count": null,
   "id": "c818fb3c",
   "metadata": {},
   "outputs": [],
   "source": [
    "order_items"
   ]
  },
  {
   "cell_type": "code",
   "execution_count": null,
   "id": "4e4ef3cb",
   "metadata": {},
   "outputs": [],
   "source": [
    "customers"
   ]
  },
  {
   "cell_type": "code",
   "execution_count": null,
   "id": "47689bf9",
   "metadata": {},
   "outputs": [],
   "source": [
    "    orders['order_purchase_year']  = orders['order_purchase_timestamp'].dt.year\n",
    "    orders['order_purchase_month'] = orders['order_purchase_timestamp'].dt.month"
   ]
  },
  {
   "cell_type": "code",
   "execution_count": null,
   "id": "18363a79",
   "metadata": {},
   "outputs": [],
   "source": [
    "grow_trend = customers.merge(orders,how='inner',on='customer_id').groupby(['order_purchase_year','order_purchase_month']).size().reset_index()\n",
    "grow_trend"
   ]
  },
  {
   "cell_type": "code",
   "execution_count": null,
   "id": "306c136b",
   "metadata": {},
   "outputs": [],
   "source": [
    "grow_trend.loc[grow_trend.order_purchase_year==2017]['order_purchase_month'].values"
   ]
  },
  {
   "cell_type": "code",
   "execution_count": null,
   "id": "e4f6bb96",
   "metadata": {},
   "outputs": [],
   "source": [
    "_2017_months    = grow_trend.loc[grow_trend.order_purchase_year==2017].values[:,1]\n",
    "_2017_purchases = grow_trend.loc[grow_trend.order_purchase_year==2017].values[:,2]\n",
    "_2018_months    = grow_trend.loc[grow_trend.order_purchase_year==2018].values[:,1]\n",
    "_2018_purchases = grow_trend.loc[grow_trend.order_purchase_year==2018].values[:,2]\n",
    "\n",
    "\n",
    "plt.plot(_2017_months,_2017_purchases,label='2017')\n",
    "plt.plot(_2018_months,_2018_purchases,label='2018')\n",
    "plt.legend()\n",
    "plt.show()"
   ]
  },
  {
   "cell_type": "code",
   "execution_count": null,
   "id": "4e0e0b69",
   "metadata": {},
   "outputs": [],
   "source": [
    "_2018_months    = grow_trend.loc[grow_trend.order_purchase_year==2018].values[:,1]\n",
    "_2018_purchases = grow_trend.loc[grow_trend.order_purchase_year==2018].values[:,2]\n"
   ]
  },
  {
   "cell_type": "code",
   "execution_count": null,
   "id": "a0517500",
   "metadata": {},
   "outputs": [],
   "source": [
    "grow_trend.loc[grow_trend.order_purchase_year==2018]"
   ]
  },
  {
   "cell_type": "code",
   "execution_count": null,
   "id": "e72c6fbc",
   "metadata": {},
   "outputs": [],
   "source": []
  }
 ],
 "metadata": {
  "kernelspec": {
   "display_name": "Python 3 (ipykernel)",
   "language": "python",
   "name": "python3"
  },
  "language_info": {
   "codemirror_mode": {
    "name": "ipython",
    "version": 3
   },
   "file_extension": ".py",
   "mimetype": "text/x-python",
   "name": "python",
   "nbconvert_exporter": "python",
   "pygments_lexer": "ipython3",
   "version": "3.8.2"
  }
 },
 "nbformat": 4,
 "nbformat_minor": 5
}
